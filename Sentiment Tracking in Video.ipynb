{
 "cells": [
  {
   "cell_type": "markdown",
   "metadata": {},
   "source": [
    "# Loading Libraries, the Model and Writing Feature Extraction Helper Function"
   ]
  },
  {
   "cell_type": "code",
   "execution_count": 1,
   "metadata": {},
   "outputs": [],
   "source": [
    "import numpy as np\n",
    "import tensorflow as tf\n",
    "import skimage\n",
    "import pandas as pd\n",
    "import matplotlib.pyplot as plt"
   ]
  },
  {
   "cell_type": "code",
   "execution_count": 2,
   "metadata": {},
   "outputs": [],
   "source": [
    "\n",
    "from tensorflow.keras.applications.vgg16 import VGG16\n",
    "# VGG16 was a model architecture that ranked REALLY WELL in a 2014 machine vision object recognition competion\n",
    "\n",
    "# Details at: https://keras.io/applications/#vgg16\n",
    "model = VGG16(include_top=False, weights='imagenet', input_tensor=None, input_shape=None, pooling='max', classes=1000)\n",
    "\n",
    "\n",
    "\n",
    "def format_image(img:np.array)->np.array:\n",
    "    '''Converts the image into the format that is expected by the pre-trained model'''\n",
    "    resized_img = skimage.transform.resize(img, (224, 224, 3), mode='reflect', anti_aliasing=True)\n",
    "    formated_img = resized_img.reshape(1, *resized_img.shape)\n",
    "    return formated_img\n",
    "\n",
    "\n",
    "def extract_features(image:np.array, model=model)->np.array:\n",
    "    formated_image = format_image(image)\n",
    "    image_features = model.predict(formated_image).ravel()\n",
    "    return image_features\n"
   ]
  },
  {
   "cell_type": "markdown",
   "metadata": {},
   "source": [
    "# Capturing images with Open CV and using the Feature Extraction from VGG16"
   ]
  },
  {
   "cell_type": "markdown",
   "metadata": {},
   "source": [
    "#Here we area creating a list of \"Image Frames\" where I look happy, and extracting the VGG16 features\n",
    "\n",
    "cap = cv2.VideoCapture(0)\n",
    "\n",
    "happy = []\n",
    "for i in range(20):\n",
    "    try:\n",
    "        # Capture frame-by-frame\n",
    "        ret, frame = cap.read()\n",
    "\n",
    "        plt.imshow(frame.mean(axis=2), cmap='gray')\n",
    "        plt.show()\n",
    "\n",
    "        features = extract_features(frame)\n",
    "        happy.append(features)\n",
    "\n",
    "        time.sleep(1)\n",
    "    except:\n",
    "        print('Stoped')"
   ]
  },
  {
   "cell_type": "markdown",
   "metadata": {},
   "source": [
    "cap = cv2.VideoCapture(0)\n",
    "\n",
    "sad = []\n",
    "\n",
    "\n",
    "for i in range(20):\n",
    "    # Capture frame-by-frame\n",
    "    \n",
    "    try:\n",
    "        ret, frame = cap.read()\n",
    "\n",
    "        plt.imshow(frame.mean(axis=2), cmap='gray')\n",
    "        plt.show()\n",
    "\n",
    "        features = extract_features(frame)\n",
    "        sad.append(features)\n",
    "\n",
    "        time.sleep(1)\n",
    "    except:\n",
    "        print('Stoped')"
   ]
  },
  {
   "cell_type": "markdown",
   "metadata": {},
   "source": [
    "# Making a DataFrame for Training"
   ]
  },
  {
   "cell_type": "markdown",
   "metadata": {},
   "source": [
    "df_happy = pd.DataFrame(happy).assign(target = 'Happy')\n",
    "df_sad = pd.DataFrame(sad).assign(target = 'Sad')\n",
    "\n",
    "df = pd.concat([df_happy, df_sad])\n",
    "\n",
    "df.head()"
   ]
  },
  {
   "cell_type": "markdown",
   "metadata": {},
   "source": [
    "# Loading from disk just in case"
   ]
  },
  {
   "cell_type": "code",
   "execution_count": 3,
   "metadata": {},
   "outputs": [
    {
     "data": {
      "text/html": [
       "<div>\n",
       "<style scoped>\n",
       "    .dataframe tbody tr th:only-of-type {\n",
       "        vertical-align: middle;\n",
       "    }\n",
       "\n",
       "    .dataframe tbody tr th {\n",
       "        vertical-align: top;\n",
       "    }\n",
       "\n",
       "    .dataframe thead th {\n",
       "        text-align: right;\n",
       "    }\n",
       "</style>\n",
       "<table border=\"1\" class=\"dataframe\">\n",
       "  <thead>\n",
       "    <tr style=\"text-align: right;\">\n",
       "      <th></th>\n",
       "      <th>0</th>\n",
       "      <th>1</th>\n",
       "      <th>2</th>\n",
       "      <th>3</th>\n",
       "      <th>4</th>\n",
       "      <th>5</th>\n",
       "      <th>6</th>\n",
       "      <th>7</th>\n",
       "      <th>8</th>\n",
       "      <th>9</th>\n",
       "      <th>...</th>\n",
       "      <th>503</th>\n",
       "      <th>504</th>\n",
       "      <th>505</th>\n",
       "      <th>506</th>\n",
       "      <th>507</th>\n",
       "      <th>508</th>\n",
       "      <th>509</th>\n",
       "      <th>510</th>\n",
       "      <th>511</th>\n",
       "      <th>target</th>\n",
       "    </tr>\n",
       "  </thead>\n",
       "  <tbody>\n",
       "    <tr>\n",
       "      <th>0</th>\n",
       "      <td>1.317196</td>\n",
       "      <td>0.000000</td>\n",
       "      <td>0.613930</td>\n",
       "      <td>0.363425</td>\n",
       "      <td>1.220333</td>\n",
       "      <td>0.0</td>\n",
       "      <td>1.650221</td>\n",
       "      <td>1.302684</td>\n",
       "      <td>0.399058</td>\n",
       "      <td>0.146537</td>\n",
       "      <td>...</td>\n",
       "      <td>0.874446</td>\n",
       "      <td>0.715958</td>\n",
       "      <td>0.554085</td>\n",
       "      <td>0.625149</td>\n",
       "      <td>1.033700</td>\n",
       "      <td>0.208336</td>\n",
       "      <td>0.789042</td>\n",
       "      <td>1.033700</td>\n",
       "      <td>0.0</td>\n",
       "      <td>Happy</td>\n",
       "    </tr>\n",
       "    <tr>\n",
       "      <th>1</th>\n",
       "      <td>1.488492</td>\n",
       "      <td>0.000000</td>\n",
       "      <td>0.756040</td>\n",
       "      <td>0.359960</td>\n",
       "      <td>1.083577</td>\n",
       "      <td>0.0</td>\n",
       "      <td>1.775071</td>\n",
       "      <td>1.198040</td>\n",
       "      <td>0.938583</td>\n",
       "      <td>0.363334</td>\n",
       "      <td>...</td>\n",
       "      <td>0.902159</td>\n",
       "      <td>0.873070</td>\n",
       "      <td>0.853550</td>\n",
       "      <td>0.680130</td>\n",
       "      <td>0.986976</td>\n",
       "      <td>0.236965</td>\n",
       "      <td>0.716586</td>\n",
       "      <td>1.073829</td>\n",
       "      <td>0.0</td>\n",
       "      <td>Happy</td>\n",
       "    </tr>\n",
       "    <tr>\n",
       "      <th>2</th>\n",
       "      <td>1.558022</td>\n",
       "      <td>0.000000</td>\n",
       "      <td>0.606882</td>\n",
       "      <td>0.507376</td>\n",
       "      <td>1.174315</td>\n",
       "      <td>0.0</td>\n",
       "      <td>1.522977</td>\n",
       "      <td>1.285222</td>\n",
       "      <td>0.254929</td>\n",
       "      <td>0.193182</td>\n",
       "      <td>...</td>\n",
       "      <td>0.733771</td>\n",
       "      <td>0.811947</td>\n",
       "      <td>0.741557</td>\n",
       "      <td>0.673411</td>\n",
       "      <td>1.038159</td>\n",
       "      <td>0.283347</td>\n",
       "      <td>0.308612</td>\n",
       "      <td>1.085167</td>\n",
       "      <td>0.0</td>\n",
       "      <td>Happy</td>\n",
       "    </tr>\n",
       "    <tr>\n",
       "      <th>3</th>\n",
       "      <td>2.087281</td>\n",
       "      <td>0.327485</td>\n",
       "      <td>0.766129</td>\n",
       "      <td>0.384416</td>\n",
       "      <td>1.242960</td>\n",
       "      <td>0.0</td>\n",
       "      <td>1.714872</td>\n",
       "      <td>1.604714</td>\n",
       "      <td>0.295242</td>\n",
       "      <td>0.239654</td>\n",
       "      <td>...</td>\n",
       "      <td>0.748889</td>\n",
       "      <td>0.838244</td>\n",
       "      <td>0.509212</td>\n",
       "      <td>0.810890</td>\n",
       "      <td>1.021062</td>\n",
       "      <td>0.180793</td>\n",
       "      <td>0.687938</td>\n",
       "      <td>1.060327</td>\n",
       "      <td>0.0</td>\n",
       "      <td>Happy</td>\n",
       "    </tr>\n",
       "    <tr>\n",
       "      <th>4</th>\n",
       "      <td>1.697815</td>\n",
       "      <td>0.090359</td>\n",
       "      <td>0.650592</td>\n",
       "      <td>0.277037</td>\n",
       "      <td>1.209168</td>\n",
       "      <td>0.0</td>\n",
       "      <td>1.711340</td>\n",
       "      <td>1.474924</td>\n",
       "      <td>0.193696</td>\n",
       "      <td>0.351661</td>\n",
       "      <td>...</td>\n",
       "      <td>0.810304</td>\n",
       "      <td>0.670218</td>\n",
       "      <td>0.324994</td>\n",
       "      <td>0.714916</td>\n",
       "      <td>1.035868</td>\n",
       "      <td>0.206279</td>\n",
       "      <td>0.800277</td>\n",
       "      <td>1.066648</td>\n",
       "      <td>0.0</td>\n",
       "      <td>Happy</td>\n",
       "    </tr>\n",
       "  </tbody>\n",
       "</table>\n",
       "<p>5 rows × 513 columns</p>\n",
       "</div>"
      ],
      "text/plain": [
       "          0         1         2         3         4    5         6         7  \\\n",
       "0  1.317196  0.000000  0.613930  0.363425  1.220333  0.0  1.650221  1.302684   \n",
       "1  1.488492  0.000000  0.756040  0.359960  1.083577  0.0  1.775071  1.198040   \n",
       "2  1.558022  0.000000  0.606882  0.507376  1.174315  0.0  1.522977  1.285222   \n",
       "3  2.087281  0.327485  0.766129  0.384416  1.242960  0.0  1.714872  1.604714   \n",
       "4  1.697815  0.090359  0.650592  0.277037  1.209168  0.0  1.711340  1.474924   \n",
       "\n",
       "          8         9   ...         503       504       505       506  \\\n",
       "0  0.399058  0.146537   ...    0.874446  0.715958  0.554085  0.625149   \n",
       "1  0.938583  0.363334   ...    0.902159  0.873070  0.853550  0.680130   \n",
       "2  0.254929  0.193182   ...    0.733771  0.811947  0.741557  0.673411   \n",
       "3  0.295242  0.239654   ...    0.748889  0.838244  0.509212  0.810890   \n",
       "4  0.193696  0.351661   ...    0.810304  0.670218  0.324994  0.714916   \n",
       "\n",
       "        507       508       509       510  511  target  \n",
       "0  1.033700  0.208336  0.789042  1.033700  0.0   Happy  \n",
       "1  0.986976  0.236965  0.716586  1.073829  0.0   Happy  \n",
       "2  1.038159  0.283347  0.308612  1.085167  0.0   Happy  \n",
       "3  1.021062  0.180793  0.687938  1.060327  0.0   Happy  \n",
       "4  1.035868  0.206279  0.800277  1.066648  0.0   Happy  \n",
       "\n",
       "[5 rows x 513 columns]"
      ]
     },
     "execution_count": 3,
     "metadata": {},
     "output_type": "execute_result"
    }
   ],
   "source": [
    "df = pd.read_csv('happy_sad.csv').drop(['Unnamed: 0'], axis=1)\n",
    "df.head()"
   ]
  },
  {
   "cell_type": "markdown",
   "metadata": {},
   "source": [
    "# EDA"
   ]
  },
  {
   "cell_type": "code",
   "execution_count": 4,
   "metadata": {},
   "outputs": [
    {
     "data": {
      "text/plain": [
       "<matplotlib.axes._subplots.AxesSubplot at 0x10cc1d518>"
      ]
     },
     "execution_count": 4,
     "metadata": {},
     "output_type": "execute_result"
    },
    {
     "data": {
      "image/png": "[encoded data removed]",
      "text/plain": [
       "<Figure size 1440x288 with 1 Axes>"
      ]
     },
     "metadata": {
      "needs_background": "light"
     },
     "output_type": "display_data"
    }
   ],
   "source": [
    "(df\n",
    " .groupby('target')\n",
    " .mean()\n",
    " .T\n",
    " .assign(diff = lambda x: (x['Happy']-x['Sad'])/(x['Happy']+x['Sad']))\n",
    " .sort_values(by='diff')\n",
    " .dropna()\n",
    " .drop('diff', axis=1)\n",
    " .iloc[list(range(30)) + [-x for x in range(30)],:].plot(kind='bar', figsize=(20,4))\n",
    ")"
   ]
  },
  {
   "cell_type": "markdown",
   "metadata": {},
   "source": [
    "# ML"
   ]
  },
  {
   "cell_type": "code",
   "execution_count": 5,
   "metadata": {},
   "outputs": [],
   "source": [
    "from sklearn.preprocessing import StandardScaler\n",
    "\n",
    "X = df.drop('target', axis=1)\n",
    "y = df['target']"
   ]
  },
  {
   "cell_type": "code",
   "execution_count": 6,
   "metadata": {},
   "outputs": [],
   "source": [
    "X_scaled = StandardScaler().fit_transform(X)"
   ]
  },
  {
   "cell_type": "code",
   "execution_count": 7,
   "metadata": {},
   "outputs": [
    {
     "data": {
      "text/plain": [
       "PCA(copy=True, iterated_power='auto', n_components=2, random_state=None,\n",
       "  svd_solver='auto', tol=0.0, whiten=False)"
      ]
     },
     "execution_count": 7,
     "metadata": {},
     "output_type": "execute_result"
    }
   ],
   "source": [
    "from sklearn.decomposition import PCA\n",
    "from scikitplot.decomposition import plot_pca_2d_projection\n",
    "\n",
    "pca = PCA(n_components=2)\n",
    "pca.fit(X_scaled)"
   ]
  },
  {
   "cell_type": "code",
   "execution_count": 8,
   "metadata": {},
   "outputs": [
    {
     "data": {
      "text/plain": [
       "<matplotlib.axes._subplots.AxesSubplot at 0x1c2e8a43c8>"
      ]
     },
     "execution_count": 8,
     "metadata": {},
     "output_type": "execute_result"
    },
    {
     "data": {
      "image/png": "[encoded data removed]",
      "text/plain": [
       "<Figure size 432x288 with 1 Axes>"
      ]
     },
     "metadata": {
      "needs_background": "light"
     },
     "output_type": "display_data"
    }
   ],
   "source": [
    "plot_pca_2d_projection(pca, X_scaled, y)"
   ]
  },
  {
   "cell_type": "code",
   "execution_count": 9,
   "metadata": {},
   "outputs": [
    {
     "data": {
      "text/plain": [
       "0.8476190476190476"
      ]
     },
     "execution_count": 9,
     "metadata": {},
     "output_type": "execute_result"
    }
   ],
   "source": [
    "from sklearn.model_selection import train_test_split, cross_val_score\n",
    "from sklearn.ensemble import RandomForestClassifier, ExtraTreesClassifier\n",
    "\n",
    "rfc = ExtraTreesClassifier(max_depth=2, n_estimators=1500)\n",
    "\n",
    "cross_val_score(rfc, X_scaled, y, cv=5, n_jobs=5).mean()"
   ]
  },
  {
   "cell_type": "code",
   "execution_count": null,
   "metadata": {},
   "outputs": [],
   "source": []
  }
 ],
 "metadata": {
  "kernelspec": {
   "display_name": "Python 3",
   "language": "python",
   "name": "python3"
  },
  "language_info": {
   "codemirror_mode": {
    "name": "ipython",
    "version": 3
   },
   "file_extension": ".py",
   "mimetype": "text/x-python",
   "name": "python",
   "nbconvert_exporter": "python",
   "pygments_lexer": "ipython3",
   "version": "3.6.5"
  }
 },
 "nbformat": 4,
 "nbformat_minor": 2
}
